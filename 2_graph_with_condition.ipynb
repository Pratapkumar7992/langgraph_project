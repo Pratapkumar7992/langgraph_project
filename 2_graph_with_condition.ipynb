{
 "cells": [
  {
   "cell_type": "code",
   "id": "initial_id",
   "metadata": {
    "collapsed": true,
    "ExecuteTime": {
     "end_time": "2025-09-23T14:19:21.446684Z",
     "start_time": "2025-09-23T14:19:21.440687Z"
    }
   },
   "source": [
    "from typing import Literal,TypedDict\n",
    "\n",
    "class PortFolioState(TypedDict):\n",
    "    amount_usd:float\n",
    "    total_usd:float\n",
    "    target_currency:Literal[\"INR\",\"EUR\"]\n",
    "    total:float"
   ],
   "outputs": [],
   "execution_count": 1
  },
  {
   "metadata": {
    "ExecuteTime": {
     "end_time": "2025-09-23T14:19:21.459048Z",
     "start_time": "2025-09-23T14:19:21.455692Z"
    }
   },
   "cell_type": "code",
   "source": [
    "def calc_total(state:PortFolioState)->PortFolioState:\n",
    "    state[\"total_usd\"]=state[\"amount_usd\"]*1.08\n",
    "    return state\n",
    "\n",
    "def convert_in_inr(state:PortFolioState)->PortFolioState:\n",
    "    state[\"total\"]=state[\"total_usd\"]*88.1\n",
    "    return state\n",
    "\n",
    "def convert_in_eur(state:PortFolioState)->PortFolioState:\n",
    "    state[\"total\"]=state[\"total_usd\"]*0.8512\n",
    "    return state\n",
    "\n",
    "def choose_conversion(state: PortFolioState) -> str:\n",
    "    return state[\"target_currency\"]\n"
   ],
   "id": "b5ebd9d6cd057def",
   "outputs": [],
   "execution_count": 2
  },
  {
   "metadata": {
    "ExecuteTime": {
     "end_time": "2025-09-23T14:21:15.904728Z",
     "start_time": "2025-09-23T14:21:15.898752Z"
    }
   },
   "cell_type": "code",
   "source": [
    "from langgraph.graph import StateGraph, START, END\n",
    "\n",
    "builder = StateGraph(PortFolioState)\n",
    "\n",
    "builder.add_node(\"calc_total_node\", calc_total)\n",
    "builder.add_node(\"convert_to_inr_node\", convert_in_inr)\n",
    "builder.add_node(\"convert_to_eur_node\", convert_in_eur)\n",
    "\n",
    "builder.add_edge(START, \"calc_total_node\")\n",
    "builder.add_conditional_edges(\n",
    "    \"calc_total_node\",\n",
    "    choose_conversion,\n",
    "    {\n",
    "        \"INR\": \"convert_to_inr_node\",\n",
    "        \"EUR\": \"convert_to_eur_node\",\n",
    "    }\n",
    ")\n",
    "builder.add_edge([\"convert_to_inr_node\", \"convert_to_eur_node\"], END)\n",
    "\n",
    "graph = builder.compile()"
   ],
   "id": "b5261ef738b0c9b1",
   "outputs": [],
   "execution_count": 4
  },
  {
   "metadata": {
    "ExecuteTime": {
     "end_time": "2025-09-23T14:21:50.298292Z",
     "start_time": "2025-09-23T14:21:48.471427Z"
    }
   },
   "cell_type": "code",
   "source": [
    "from IPython.display import display\n",
    "display(graph)"
   ],
   "id": "cd8e242755a65592",
   "outputs": [
    {
     "data": {
      "text/plain": [
       "<langgraph.graph.state.CompiledStateGraph object at 0x0000020B4867DA00>"
      ],
      "image/png": "[encoded data removed]"
     },
     "metadata": {},
     "output_type": "display_data",
     "jetTransient": {
      "display_id": null
     }
    }
   ],
   "execution_count": 5
  },
  {
   "metadata": {
    "ExecuteTime": {
     "end_time": "2025-09-23T14:23:07.260562Z",
     "start_time": "2025-09-23T14:23:07.255047Z"
    }
   },
   "cell_type": "code",
   "source": "graph.invoke({\"amount_usd\": 1000, \"target_currency\": \"INR\"})",
   "id": "24022daaf86f62ae",
   "outputs": [
    {
     "data": {
      "text/plain": [
       "{'amount_usd': 1000,\n",
       " 'total_usd': 1080.0,\n",
       " 'target_currency': 'INR',\n",
       " 'total': 95148.0}"
      ]
     },
     "execution_count": 7,
     "metadata": {},
     "output_type": "execute_result"
    }
   ],
   "execution_count": 7
  },
  {
   "metadata": {},
   "cell_type": "code",
   "outputs": [],
   "execution_count": null,
   "source": "",
   "id": "d482283788baccfa"
  }
 ],
 "metadata": {
  "kernelspec": {
   "display_name": "Python 3",
   "language": "python",
   "name": "python3"
  },
  "language_info": {
   "codemirror_mode": {
    "name": "ipython",
    "version": 2
   },
   "file_extension": ".py",
   "mimetype": "text/x-python",
   "name": "python",
   "nbconvert_exporter": "python",
   "pygments_lexer": "ipython2",
   "version": "2.7.6"
  }
 },
 "nbformat": 4,
 "nbformat_minor": 5
}
