{
 "cells": [
  {
   "cell_type": "code",
   "id": "initial_id",
   "metadata": {
    "collapsed": true,
    "ExecuteTime": {
     "end_time": "2025-09-27T07:47:00.838311Z",
     "start_time": "2025-09-27T07:46:59.360914Z"
    }
   },
   "source": [
    "from typing import Annotated\n",
    "from dotenv import load_dotenv\n",
    "load_dotenv()\n",
    "\n",
    "from typing_extensions import TypedDict\n",
    "from langchain.chat_models import init_chat_model\n",
    "from langgraph.graph import StateGraph, START, END\n",
    "from langgraph.graph.message import add_messages"
   ],
   "outputs": [],
   "execution_count": 1
  },
  {
   "metadata": {
    "ExecuteTime": {
     "end_time": "2025-09-27T07:47:00.864303Z",
     "start_time": "2025-09-27T07:47:00.860331Z"
    }
   },
   "cell_type": "code",
   "source": "from langchain.chat_models import init_chat_model",
   "id": "247932a536116ca4",
   "outputs": [],
   "execution_count": 2
  },
  {
   "metadata": {
    "ExecuteTime": {
     "end_time": "2025-09-27T07:47:02.220791Z",
     "start_time": "2025-09-27T07:47:00.878318Z"
    }
   },
   "cell_type": "code",
   "source": [
    "llm = init_chat_model(\"google_genai:gemini-2.0-flash\")\n",
    "\n",
    "class State(TypedDict):\n",
    "    messages: Annotated[list, add_messages]\n",
    "\n",
    "def chatbot(state: State) -> State:\n",
    "    return {\"messages\": [llm.invoke(state[\"messages\"])]}\n",
    "\n",
    "builder = StateGraph(State)\n",
    "builder.add_node(\"chatbot_node\", chatbot)\n",
    "\n",
    "builder.add_edge(START, \"chatbot_node\")\n",
    "builder.add_edge(\"chatbot_node\", END)\n",
    "\n",
    "graph = builder.compile()"
   ],
   "id": "7259d10f4e5924e4",
   "outputs": [],
   "execution_count": 3
  },
  {
   "metadata": {
    "ExecuteTime": {
     "end_time": "2025-09-26T16:15:37.034170Z",
     "start_time": "2025-09-26T16:15:36.301867Z"
    }
   },
   "cell_type": "code",
   "source": [
    "message = {\"role\": \"user\", \"content\": \"Who walked on the moon for the first time? Print only the name\"}\n",
    "# message = {\"role\": \"user\", \"content\": \"What is the latest price of MSFT stock?\"}\n",
    "response = graph.invoke({\"messages\":[message]})\n",
    "\n",
    "response[\"messages\"]"
   ],
   "id": "4e4515ff60744fba",
   "outputs": [
    {
     "data": {
      "text/plain": [
       "[HumanMessage(content='Who walked on the moon for the first time? Print only the name', additional_kwargs={}, response_metadata={}, id='a7d46571-95d0-43c6-95c8-19dba6028e8d'),\n",
       " AIMessage(content='Neil Armstrong', additional_kwargs={}, response_metadata={'prompt_feedback': {'block_reason': 0, 'safety_ratings': []}, 'finish_reason': 'STOP', 'model_name': 'gemini-2.0-flash', 'safety_ratings': []}, id='run--9cb17c1a-5232-460e-b0f3-1b28160ec88d-0', usage_metadata={'input_tokens': 14, 'output_tokens': 3, 'total_tokens': 17, 'input_token_details': {'cache_read': 0}})]"
      ]
     },
     "execution_count": 5,
     "metadata": {},
     "output_type": "execute_result"
    }
   ],
   "execution_count": 5
  },
  {
   "metadata": {
    "ExecuteTime": {
     "end_time": "2025-09-27T07:54:56.467625Z",
     "start_time": "2025-09-27T07:53:40.504862Z"
    }
   },
   "cell_type": "code",
   "source": [
    "state=None\n",
    "while True:\n",
    "    in_message=input(\"You : \")\n",
    "    if in_message.lower() in ['quit', 'exit']:\n",
    "        break\n",
    "    if state is None:\n",
    "        state : State={\n",
    "            \"messages\": [{'role': \"user\",\"content\":in_message}],\n",
    "        }\n",
    "    else:\n",
    "        state[\"messages\"].append({'role':'user','content':in_message})\n",
    "    state=graph.invoke(state)\n",
    "    print(\"Bot : \", state['messages'][-1].content)"
   ],
   "id": "25baddc19b95c382",
   "outputs": [
    {
     "name": "stdout",
     "output_type": "stream",
     "text": [
      "Bot :  LangGraph is a Python library that builds upon LangChain to enable developers to create **stateful, multi-actor conversational applications** with ease. Think of it as a framework for orchestrating complex, graph-structured workflows involving multiple agents or functions, all while maintaining a persistent state that evolves with each interaction.\n",
      "\n",
      "Here's a breakdown of what makes LangGraph unique and powerful:\n",
      "\n",
      "**Key Concepts and Features:**\n",
      "\n",
      "*   **Graph-Based Architecture:** The core idea is to represent your application's logic as a directed graph. Nodes in the graph represent different actors or functions (like LLMs, tools, or data transformations), and edges define the flow of information between them. This graph structure makes it easy to visualize, understand, and modify complex conversational flows.\n",
      "\n",
      "*   **State Management:** LangGraph manages the \"state\" of your conversation. This state is a persistent data structure that stores information relevant to the ongoing interaction. As the conversation progresses, the state is updated by each node in the graph, allowing actors to access and modify data from previous steps.\n",
      "\n",
      "*   **Nodes and Edges:**\n",
      "    *   **Nodes:** Represent individual steps in your workflow. These can be:\n",
      "        *   **LLM Nodes:** Call Large Language Models (LLMs) for generation, reasoning, or decision-making.\n",
      "        *   **Tool Nodes:** Execute external tools or APIs to fetch data, perform calculations, or interact with the real world.\n",
      "        *   **Function Nodes:** Run arbitrary Python functions to process data, make decisions, or perform any other necessary logic.\n",
      "    *   **Edges:** Define the connections between nodes, specifying the order in which they are executed and the conditions under which the flow transitions from one node to another.  Edges can be:\n",
      "        *   **Conditional Edges:**  These edges allow the flow to branch based on the current state or the output of a node.\n",
      "        *   **Normal Edges:** These edges connect nodes in a sequential manner.\n",
      "\n",
      "*   **Agents and Tools:** LangGraph integrates seamlessly with LangChain's agents and tools. You can easily incorporate existing LangChain agents into your LangGraph workflows, leveraging their ability to use tools to accomplish specific tasks.\n",
      "\n",
      "*   **Agent Orchestration:** LangGraph excels at orchestrating interactions between multiple agents. You can define complex workflows where different agents collaborate to solve a problem, with each agent contributing its specific expertise.\n",
      "\n",
      "*   **Flexibility and Customization:** LangGraph provides a high degree of flexibility and customization. You can define your own custom nodes, edges, and state management strategies to tailor the framework to your specific needs.\n",
      "\n",
      "**Benefits of Using LangGraph:**\n",
      "\n",
      "*   **Improved Conversation Flow:** Allows for more natural and context-aware conversations by maintaining state and orchestrating complex interactions.\n",
      "*   **Increased Agent Capabilities:** Enables agents to perform more complex tasks by combining their abilities in a structured workflow.\n",
      "*   **Enhanced Modularity and Reusability:** Makes it easier to build modular and reusable conversational components.\n",
      "*   **Simplified Debugging and Maintenance:** The graph-based structure makes it easier to visualize and debug complex conversational flows.\n",
      "*   **Scalability:** Designed to handle complex and long-running conversations.\n",
      "\n",
      "**Use Cases:**\n",
      "\n",
      "*   **Complex Question Answering:** Build systems that can answer complex questions by breaking them down into smaller sub-questions and using multiple agents to find the answers.\n",
      "*   **Multi-Agent Collaboration:** Create applications where multiple agents collaborate to solve a problem, such as a team of agents working together to plan a trip.\n",
      "*   **Personalized Recommendations:** Develop systems that can provide personalized recommendations based on user preferences and past interactions.\n",
      "*   **Workflow Automation:** Automate complex workflows involving multiple steps and decision points.\n",
      "*   **Interactive Games and Simulations:**  Create interactive games and simulations with dynamic storylines and character interactions.\n",
      "\n",
      "**In summary, LangGraph is a powerful tool for building sophisticated conversational applications that go beyond simple question-answering.  It provides a flexible and intuitive framework for orchestrating complex workflows, managing state, and enabling multi-agent collaboration.**\n",
      "\n",
      "To learn more and get started, refer to the official LangChain documentation and tutorials on LangGraph.  You can find them on the LangChain website.\n",
      "Bot :  LangGraph was created by the LangChain team.\n",
      "Bot :  Harrison Chase is the CEO and co-founder of LangChain.\n"
     ]
    }
   ],
   "execution_count": 4
  },
  {
   "metadata": {},
   "cell_type": "code",
   "outputs": [],
   "execution_count": null,
   "source": "",
   "id": "f893d86423f248f5"
  }
 ],
 "metadata": {
  "kernelspec": {
   "display_name": "Python 3",
   "language": "python",
   "name": "python3"
  },
  "language_info": {
   "codemirror_mode": {
    "name": "ipython",
    "version": 2
   },
   "file_extension": ".py",
   "mimetype": "text/x-python",
   "name": "python",
   "nbconvert_exporter": "python",
   "pygments_lexer": "ipython2",
   "version": "2.7.6"
  }
 },
 "nbformat": 4,
 "nbformat_minor": 5
}
